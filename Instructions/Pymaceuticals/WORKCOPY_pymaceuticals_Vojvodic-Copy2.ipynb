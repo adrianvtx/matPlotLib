{
 "cells": [
  {
   "cell_type": "code",
   "execution_count": null,
   "metadata": {
    "tags": [
     "1"
    ]
   },
   "outputs": [],
   "source": [
    "# Dependencies and Setup\n",
    "%matplotlib inline\n",
    "import matplotlib.pyplot as plt\n",
    "import pandas as pd\n",
    "import numpy as np\n",
    "import seaborn as sns\n",
    "# import ipywidgets as widgets\n",
    "# import seaborn as sns\n",
    "# data = sns.load_dataset(\"tips\")\n",
    "# from Ipython.display import HTML\n",
    "\n",
    "# Hide warning messages in notebook\n",
    "import warnings\n",
    "warnings.filterwarnings('ignore')\n",
    "\n",
    "# File to Load (Remember to Change These)\n",
    "data_X_from_csv= \"data/mouse_drug_data.csv\"\n",
    "data_Y_from_csv = \"data/clinicaltrial_data.csv\"\n",
    "\n",
    "\n",
    "# Read the Mouse and Drug Data and the Clinical Trial Data\n",
    "data_X = (pd.read_csv(data_X_from_csv))\n",
    "\n",
    "data_Y = (pd.read_csv(data_Y_from_csv))\n",
    "# data_Y\n",
    "data_X.columns=[\"Mouse_ID\",\"Drug\"]\n",
    "data_Y.columns=[\"Mouse_ID\",\"Timepoint\",\"Tumor_Volume_mm3\",\"Metastatic_Sites\"]\n",
    "# data_X.nunique()\n",
    "                ##Mouse_ID    249\n",
    "                ##Drug         10\n",
    "                ##    dtype: int64\n",
    "                \n",
    "# data_X.get_dtype_counts()\n",
    "                ## object    2 \n",
    "                ## dtype: int64"
   ]
  },
  {
   "cell_type": "code",
   "execution_count": null,
   "metadata": {
    "tags": [
     "2"
    ]
   },
   "outputs": [],
   "source": [
    "# data_Y\n",
    "# data_Y.nunique()\n",
    "        #       Mouse_ID             249\n",
    "        #       Timepoint             10\n",
    "        #       Tumor_Volume_mm3    1644\n",
    "        #       Metastatic_Sites       5\n",
    "        #            dtype: int64\n",
    "\n",
    "# data_Y.get_dtype_counts()\n",
    "        #       float64    1\n",
    "        #       int64      2\n",
    "        #       object     1\n",
    "#                     dtype: int64\n"
   ]
  },
  {
   "cell_type": "code",
   "execution_count": null,
   "metadata": {
    "tags": [
     "3"
    ]
   },
   "outputs": [],
   "source": [
    "# Combine the data into a single dataset\n",
    "trialData=pd.merge(data_X,data_Y, how=\"inner\",on=[\"Mouse_ID\",\"Mouse_ID\"])\n",
    "# trialData.columns\n",
    "# trialData.nunique()\n",
    "            # Mouse_ID               249\n",
    "            # Timepoint               10\n",
    "            # Tumor_Volume_(mm3)    1644\n",
    "            # Metastatic Sites         5\n",
    "            # Drug                    10\n",
    "            # dtype: int64\n",
    "# trialData.head()"
   ]
  },
  {
   "cell_type": "code",
   "execution_count": null,
   "metadata": {
    "tags": [
     "4"
    ]
   },
   "outputs": [],
   "source": [
    "# Display the data table for preview\n",
    "trialData.head()"
   ]
  },
  {
   "cell_type": "markdown",
   "metadata": {
    "tags": [
     "5"
    ]
   },
   "source": [
    "## Tumor Response to Treatment"
   ]
  },
  {
   "cell_type": "code",
   "execution_count": null,
   "metadata": {
    "tags": [
     "6"
    ]
   },
   "outputs": [],
   "source": [
    "# Store the Mean Tumor Volume Data Grouped by Drug and Timepoint \n",
    "x=trialData.groupby(['Drug','Timepoint'])\n",
    "y=x[\"Tumor_Volume_mm3\"].mean().reset_index()\n",
    "        # y.columns=['Drug','Timepoint','Mean_Tumor_Volume_mm3']\n",
    "\n",
    "        # Convert to DataFrame\n",
    "meanTumVol=pd.DataFrame(y)\n",
    "meanTumVol.columns=['Drug','Timepoint','Mean_Tumor_Volume_mm3']\n",
    "summaryTable=meanTumVol\n",
    "meanTumVol.head()\n",
    "\n"
   ]
  },
  {
   "cell_type": "code",
   "execution_count": null,
   "metadata": {
    "tags": [
     "7"
    ]
   },
   "outputs": [],
   "source": [
    "# Store the Standard Error of Tumor Volumes Grouped by Drug and Timepoint\n",
    "s=trialData.groupby(['Drug','Timepoint'])\n",
    "t=s[\"Tumor_Volume_mm3\"].sem()\n",
    "\n",
    "# Convert to DataFrame\n",
    "stdErr=pd.DataFrame(t).reset_index()\n",
    "\n",
    "# Preview DataFrame\n",
    "stdErr.columns=['Drug','Timepoint','SE_Tumor_Vol_mm3']\n",
    "# summaryTable=pd.merge(summaryTable, stdErr, how=\"inner\", on=['Drug','Timepoint'])\n",
    "stdErr.pivot(index=\"Timepoint\", columns='Drug', values='SE_Tumor_Vol_mm3')\n",
    "# stdErr.plot.scatter(\"Timepoint\", \"SE_Tumor_Vol_mm3\")\n",
    "# summaryTable.reset_index\n",
    "stdErr.head()\n"
   ]
  },
  {
   "cell_type": "markdown",
   "metadata": {
    "tags": [
     "8"
    ]
   },
   "source": [
    "# To do this you are tasked with:\n",
    "#### Creating a scatter plot that shows how the tumor volume changes over time for each treatment.\n",
    "#### Creating a scatter plot that shows how the number of metastatic (cancer spreading) sites changes over time for each treatment.\n",
    "#### Creating a scatter plot that shows the number of mice still alive through the course of treatment (Survival Rate)\n",
    "#### Creating a bar graph that compares the total % tumor volume change for each drug across the full 45 days."
   ]
  },
  {
   "cell_type": "code",
   "execution_count": null,
   "metadata": {
    "scrolled": true,
    "tags": [
     "9"
    ]
   },
   "outputs": [],
   "source": [
    "# Generate the Plot (with Error Bars)\n",
    "# Create Figure (empty canvas)\n",
    "\n",
    "table=meanTumVol.pivot(index=\"Timepoint\", columns='Drug', values='Mean_Tumor_Volume_mm3')\n",
    "# z('Timepoint')\n",
    "# y=z('Mean_Tumor_Volome_mm3')\n",
    "\n",
    "fig, ax = plt.subplots()\n",
    "\n",
    "ax.errorbar(table.index, table['Capomulin'], fmt=\"|\",color=\"r\",label=\"Capomulin\",  markersize=8, marker=\".\", linestyle=\"solid\", linewidth=0.60)\n",
    "ax.errorbar(table.index, table['Infubinol'], fmt=\"|\", color=\"b\",label=\"Infubinol\",  markersize=5, marker=\"^\", linestyle=\"solid\", linewidth=0.60)\n",
    "ax.errorbar(table.index, table['Ketapril'], fmt=\"|\", color=\"g\",label=\"Ketapril\",  markersize=5, marker=\"s\", linestyle=\"solid\", linewidth=0.60)\n",
    "ax.errorbar(table.index, table['Placebo'], fmt=\"|\", color=\"black\",label=\"Placebo\",  markersize=5, marker=\"d\", linestyle=\"solid\", linewidth=0.60)\n",
    "\n",
    "ax.errorbar(table.index, table['Capomulin'], fmt=\"|\", color=\"r\",alpha=0.5, label=\"Capomulin\")\n",
    "plt.title(\"Tumor Response to Treatment\")\n",
    "plt.ylabel(\"Tumor Volume (mm3)\")\n",
    "plt.xlabel(\"Time (Days)\")\n",
    "plt.grid(True)\n",
    "plt.legend(loc=\"best\", fontsize=\"small\", fancybox=True)\n",
    "\n",
    "\n",
    "plt.tight_layout\n",
    "# Save the Figure\n",
    "plt.savefig(\"Fig1\")\n",
    "\n",
    "# Show the Figure\n",
    "plt.show()\n",
    "\n",
    "# meanTumVol.plot.scatter(\"Timepoint\", \"Mean_Tumor_Volume_mm3\",c=tab10)"
   ]
  },
  {
   "cell_type": "markdown",
   "metadata": {
    "tags": [
     "10"
    ]
   },
   "source": [
    "## Metastatic Response to Treatment"
   ]
  },
  {
   "cell_type": "code",
   "execution_count": null,
   "metadata": {
    "tags": [
     "11"
    ]
   },
   "outputs": [],
   "source": [
    "# Store the Mean Met. Site Data Grouped by Drug and Timepoint \n",
    "m=trialData.groupby(['Drug','Timepoint'])\n",
    "n=m[\"Metastatic_Sites\"].mean().reset_index()\n",
    "# y.columns=['Drug','Timepoint','Mean_Tumor_Volume_mm3']\n",
    "\n",
    "# Convert to DataFrame\n",
    "meanMetSit=pd.DataFrame(n)\n",
    "\n",
    "# Preview DataFrame\n",
    "meanMetSit.columns=['Drug','Timepoint','Mean_Metastatic_Sites']\n",
    "summaryTable=pd.merge(summaryTable, meanMetSit, how=\"inner\", on=['Drug','Timepoint'])\n",
    "meanMetSit.head()\n"
   ]
  },
  {
   "cell_type": "code",
   "execution_count": null,
   "metadata": {},
   "outputs": [],
   "source": []
  },
  {
   "cell_type": "code",
   "execution_count": null,
   "metadata": {
    "tags": [
     "12"
    ]
   },
   "outputs": [],
   "source": [
    "# Store the Standard Error associated with Met. Sites Grouped by Drug and Timepoint \n",
    "trialData.reset_index()\n",
    "p=trialData.groupby(['Drug','Timepoint'])\n",
    "q=p[\"Metastatic_Sites\"].sem()\n",
    "q\n",
    "# Convert to DataFrame\n",
    "stdErr=pd.DataFrame(q)#.reset_index()\n",
    "\n",
    "# Preview DataFrame\n",
    "# stdErr.columns=['SE_Metastatic_Sites']\n",
    "# stdErr\n",
    "# pd.merge(summaryTable, stdErr, how=\"inner\", on=['Drug','Timepoint'])\n",
    "\n",
    "stdErr.reset_index()\n"
   ]
  },
  {
   "cell_type": "code",
   "execution_count": null,
   "metadata": {
    "tags": [
     "13"
    ]
   },
   "outputs": [],
   "source": [
    "# Minor Data Munging to Re-Format the Data Frames\n",
    "table1=meanMetSit.pivot(index=\"Timepoint\", columns='Drug', values='Mean_Metastatic_Sites')\n",
    "# Preview that Reformatting worked\n",
    "table1.head()"
   ]
  },
  {
   "cell_type": "code",
   "execution_count": null,
   "metadata": {
    "scrolled": true,
    "tags": [
     "14"
    ]
   },
   "outputs": [],
   "source": [
    "# Generate the Plot (with Error Bars)\n",
    "# Create Figure (empty canvas)\n",
    "fig, ax = plt.subplots()\n",
    "\n",
    "\n",
    "# z('Timepoint')\n",
    "# y=z('Mean_Tumor_Volome_mm3')\n",
    "\n",
    "\n",
    "ax.errorbar(table1.index, table1['Capomulin'], fmt=\"|\", color=\"r\",label=\"Capomulin\",  markersize=8, marker=\".\", linestyle=\"solid\", linewidth=0.60)\n",
    "ax.errorbar(table1.index, table1['Infubinol'], fmt=\"|\", color=\"b\",label=\"Infubinol\",  markersize=5, marker=\"^\", linestyle=\"solid\", linewidth=0.60)\n",
    "ax.errorbar(table1.index, table1['Ketapril'], fmt=\"|\", color=\"g\",label=\"Ketapril\",  markersize=5, marker=\"s\", linestyle=\"solid\", linewidth=0.60)\n",
    "ax.errorbar(table1.index, table1['Placebo'], fmt=\"|\", color=\"black\",label=\"Placebo\",  markersize=5, marker=\"d\", linestyle=\"solid\", linewidth=0.60)\n",
    "\n",
    "# ax.errorbar(table1.index, table['Capomulin'], yerr=sE[0], fmt=\"|\", color=\"r\",alpha=0.5, label=\"Capomulin\")\n",
    "\n",
    "plt.title(\"Metastatic Spread During Treatment\")\n",
    "plt.ylabel(\"Metastatic Sites\")\n",
    "plt.xlabel(\"Treatment Duration (Days)\")\n",
    "plt.grid(True)\n",
    "plt.legend(loc=\"best\", fontsize=\"small\", fancybox=True)\n",
    "\n",
    "\n",
    "plt.tight_layout\n",
    "# Save the Figure\n",
    "plt.savefig(\"Fig2\")\n",
    "\n",
    "# Show the Figure\n",
    "plt.show()\n",
    "\n",
    "# meanTumVol.plot.scatter(\"Timepoint\", \"Mean_Tumor_Volume_mm3\",c=tab10)"
   ]
  },
  {
   "cell_type": "markdown",
   "metadata": {
    "tags": [
     "15"
    ]
   },
   "source": [
    "## Survival Rates"
   ]
  },
  {
   "cell_type": "code",
   "execution_count": null,
   "metadata": {
    "tags": [
     "16"
    ]
   },
   "outputs": [],
   "source": [
    "# Store the Count of Mice Grouped by Drug and Timepoint (W can pass any metric)\n",
    "a=trialData.groupby(['Drug','Timepoint'])\n",
    "b=a[\"Mouse_ID\"].count().reset_index()\n",
    "b\n",
    "\n",
    "# Convert to DataFrame\n",
    "micCnt=pd.DataFrame(b)#.reset_index()\n",
    "\n",
    "# Preview DataFrame\n",
    "micCnt.columns=['Drug','Timepoint','Mouse_Count']\n",
    "summaryTable=pd.merge(summaryTable, micCnt, how=\"inner\", on=['Drug','Timepoint'])\n",
    "\n",
    "micCnt.head()"
   ]
  },
  {
   "cell_type": "code",
   "execution_count": null,
   "metadata": {
    "tags": [
     "17"
    ]
   },
   "outputs": [],
   "source": [
    "# Minor Data Munging to Re-Format the Data Frames\n",
    "# micCnt([\"Timepoint\"==45]==45)\n",
    "# Preview the Data Frame\n"
   ]
  },
  {
   "cell_type": "code",
   "execution_count": null,
   "metadata": {
    "tags": [
     "18"
    ]
   },
   "outputs": [],
   "source": [
    "# Generate the Plot (Accounting for percentages)\n",
    "# Generate the Plot (with Error Bars)\n",
    "\n",
    "table2=micCnt.pivot(index=\"Timepoint\", columns='Drug', values='Mouse_Count')\n",
    "\n",
    "# Generate the Plot (with Error Bars)\n",
    "# Create Figure (empty canvas)\n",
    "fig, ax = plt.subplots()\n",
    "\n",
    "\n",
    "ax.errorbar(table2.index, ((table2['Capomulin']/25)*100), fmt=\"|\", color=\"r\",label=\"Capomulin\",  markersize=8, marker=\".\", linestyle=\"solid\", linewidth=0.60)\n",
    "ax.errorbar(table2.index, ((table2['Infubinol']/25)*100), fmt=\"|\", color=\"b\",label=\"Infubinol\",  markersize=5, marker=\"^\", linestyle=\"solid\", linewidth=0.60)\n",
    "ax.errorbar(table2.index, ((table2['Ketapril']/25)*100), fmt=\"|\", color=\"g\",label=\"Ketapril\",  markersize=5, marker=\"s\", linestyle=\"solid\", linewidth=0.60)\n",
    "ax.errorbar(table2.index, ((table2['Placebo']/25)*100), fmt=\"|\", color=\"black\",label=\"Placebo\",  markersize=5, marker=\"d\", linestyle=\"solid\", linewidth=0.60)\n",
    "\n",
    "# ax.errorbar(table1.index, table['Capomulin'], yerr=sE[0], fmt=\"|\", color=\"r\",alpha=0.5, label=\"Capomulin\")\n",
    "plt.ylim(30, 105)\n",
    "plt.title(\"Survival During Treatment\")\n",
    "plt.ylabel(\"Survival Rate (%)\")\n",
    "plt.xlabel(\"Treatment Duration (Days)\")\n",
    "plt.grid(True)\n",
    "plt.legend(loc=\"best\", fontsize=\"small\", fancybox=True)\n",
    "\n",
    "\n",
    "plt.tight_layout\n",
    "# Save the Figure\n",
    "plt.savefig(\"Fig3\")\n",
    "\n",
    "# Show the Figure\n",
    "plt.show()\n",
    "\n"
   ]
  },
  {
   "cell_type": "code",
   "execution_count": null,
   "metadata": {},
   "outputs": [],
   "source": []
  },
  {
   "cell_type": "code",
   "execution_count": null,
   "metadata": {},
   "outputs": [],
   "source": []
  },
  {
   "cell_type": "code",
   "execution_count": null,
   "metadata": {},
   "outputs": [],
   "source": [
    "table3 = summaryTable[['Timepoint','Drug', 'Mean_Tumor_Volume_mm3', 'Mean_Metastatic_Sites', 'Mouse_Count']]\n",
    "e= np.arange(9,90,10)\n",
    "f=np.arange(0,90,10)\n",
    "table4=pd.DataFrame(table3.iloc[e,:]),pd.DataFrame(table3.iloc[f,:])\n",
    "\n",
    "pd.DataFrame(table4).head() #TUPLE"
   ]
  },
  {
   "cell_type": "code",
   "execution_count": null,
   "metadata": {
    "tags": [
     "19"
    ]
   },
   "outputs": [],
   "source": [
    "## Summary Bar Graph\n",
    "# summaryTable.reset_index()\n",
    "# table3=summaryTable.pivot(index=\"Drug\", level=1,columns='Drug', values='Mean_Metastatic_Sites')\n",
    "# table3.head()\n",
    "fig, ax = plt.subplots()\n",
    "\n",
    "ax.bar(table2.index, (table2['Capomulin']), color=\"r\",label=\"Capomulin\")\n",
    "ax.bar(table2.index, (table2['Infubinol']), color=\"b\",label=\"Infubinol\")\n",
    "ax.bar(table2.index, (table2['Ketapril']), color=\"g\",label=\"Ketapril\")\n",
    "ax.bar(table2.index, (table2['Placebo']), color=\"black\",label=\"Placebo\")\n",
    "\n",
    "tick_locations = [value for value in x_axis]\n",
    "plt.xticks(tick_locations, [\"1\", \"2\", \"3\", \"4\", \"5\"])\n",
    "# Sets the x limits of the current chart\n",
    "plt.xlim(-0.75, len(x_axis)-0.25)\n",
    "\n",
    "# Sets the y limits of the current chart\n",
    "plt.ylim(0, max(users)+5000)\n",
    "\n",
    "# Give our chart some labels and a tile\n",
    "plt.title(\"Popularity of Programming Languages\")\n",
    "plt.xlabel(\"Programming Language\")\n",
    "plt.ylabel(\"Number of People Using Programming Languages\")\n"
   ]
  },
  {
   "cell_type": "code",
   "execution_count": null,
   "metadata": {},
   "outputs": [],
   "source": [
    "# Tell matplotlib where we would like to place each of our x axis headers\n"
   ]
  },
  {
   "cell_type": "code",
   "execution_count": null,
   "metadata": {},
   "outputs": [],
   "source": []
  },
  {
   "cell_type": "code",
   "execution_count": null,
   "metadata": {},
   "outputs": [],
   "source": [
    "# Sets the y limits of the current chart\n",
    "plt.ylim(0, max(users)+5000)\n",
    "\n",
    "# Give our chart some labels and a tile\n",
    "plt.title(\"Popularity of Programming Languages\")\n",
    "plt.xlabel(\"Programming Language\")\n",
    "plt.ylabel(\"Number of People Using Programming Languages\")"
   ]
  },
  {
   "cell_type": "code",
   "execution_count": null,
   "metadata": {
    "tags": [
     "22"
    ]
   },
   "outputs": [],
   "source": [
    "# Store all Relevant Percent Changes into a Tuple\n",
    "\n",
    "\n",
    "# Splice the data between passing and failing drugs\n",
    "\n",
    "\n",
    "# Orient widths. Add labels, tick marks, etc. \n",
    "\n",
    "\n",
    "# Use functions to label the percentages of changes\n",
    "\n",
    "\n",
    "# Call functions to implement the function calls\n",
    "\n",
    "\n",
    "# Save the Figure\n",
    "\n",
    "\n",
    "# Show the Figure\n",
    "fig.show()"
   ]
  },
  {
   "cell_type": "code",
   "execution_count": null,
   "metadata": {},
   "outputs": [],
   "source": []
  },
  {
   "cell_type": "markdown",
   "metadata": {},
   "source": [
    "## Option 2: Pymaceuticals Inc\n",
    "\n",
    "![Laboratory](Images/Laboratory.jpg)\n",
    "\n",
    "While your data companions rushed off to jobs in finance and government, you remained adamant that science was the way for you. Staying true to your mission, you've since joined Pymaceuticals Inc., a burgeoning pharmaceutical company based out of San Diego, CA. Pymaceuticals specializes in drug-based, anti-cancer pharmaceuticals. In their most recent efforts, they've since begun screening for potential treatments to squamous cell carcinoma (SCC), a commonly occurring form of skin cancer.\n",
    "\n",
    "As their Chief Data Analyst, you've been given access to the complete data from their most recent animal study. In this study, 250 mice were treated through a variety of drug regimes over the course of 45 days. Their physiological responses were then monitored over the course of that time. Your objective is to analyze the data to show how four treatments (Capomulin, Infubinol, Ketapril, and Placebo) compare.\n",
    "\n",
    "To do this you are tasked with:\n",
    "\n",
    "* Creating a scatter plot that shows how the tumor volume changes over time for each treatment.\n",
    "* Creating a scatter plot that shows how the number of [metastatic](https://en.wikipedia.org/wiki/Metastasis) (cancer spreading) sites changes over time for each treatment.\n",
    "* Creating a scatter plot that shows the number of mice still alive through the course of treatment (Survival Rate)\n",
    "* Creating a bar graph that compares the total % tumor volume change for each drug across the full 45 days.\n",
    "\n",
    "As final considerations:\n",
    "\n",
    "* You must use the Pandas Library and the Jupyter Notebook.\n",
    "* You must use the Matplotlib library.\n",
    "* You must include a written description of three observable trends based on the data.\n",
    "* You must use proper labeling of your plots, including aspects like: Plot Titles, Axes Labels, Legend Labels, X and Y Axis Limits, etc.\n",
    "* Your scatter plots must include [error bars](https://en.wikipedia.org/wiki/Error_bar). This will allow the company to account for variability between mice. You may want to look into [`pandas.DataFrame.sem`](http://pandas.pydata.org/pandas-docs/stable/generated/pandas.DataFrame.sem.html) for ideas on how to calculate this.\n",
    "* Remember when making your plots to consider aesthetics!\n",
    "  * Your legends should not be overlaid on top of any data.\n",
    "  * Your bar graph should indicate tumor growth as red and tumor reduction as green.\n",
    "    It should also include a label with the percentage change for each bar. You may want to consult this [tutorial](http://composition.al/blog/2015/11/29/a-better-way-to-add-labels-to-bar-charts-with-matplotlib/) for relevant code snippets.\n",
    "* See [Starter Workbook](Pymaceuticals/pymaceuticals_starter.ipynb) for a reference on expected format. (Note: For this example, you are not required to match the tables or data frames included. Your only goal is to build the scatter plots and bar graphs. Consider the tables to be potential clues, but feel free to approach this problem, however, you like.)\n",
    "\n",
    "## Hints and Considerations\n",
    "\n",
    "* Be warned: These are very challenging tasks. Be patient with yourself as you trudge through these problems. They will take time and there is no shame in fumbling along the way. Data visualization is equal parts exploration, equal parts resolution.\n",
    "\n",
    "* You have been provided a starter notebook. Use the code comments as a **guideline** of steps you may wish to follow as you complete the assignment. You do not have to follow them step-for-step. Do not get bogged down in trying to interpret and accomplish each step.\n",
    "\n",
    "* Between these two exercises, the Pymaceuticals one is significantly more challenging. So choose that one only if you feel somewhat comfortable with the material covered so far. The Pymaceuticals example _will_ require you to research a good bit on your own for hacked solutions to problems you'll experience along the way. If you end up choosing this exercise, feel encouraged to constantly refer to Stack Overflow and the Pandas Documentation. These are needed tools in every data analyst's arsenal.\n",
    "\n",
    "* Don't get bogged down in small details. Always focus on the big picture. If you can't figure out how to get a label to show up correctly, come back to it. Focus on getting the core skeleton of your notebook complete. You can always re-visit old problems.\n",
    "\n",
    "* Remember: There are many ways to skin a cat, and similarly there are many ways to approach a data problem. The key throughout, however, is to break up your task into micro tasks. Try answering questions like: \"How does my Data Frame need to be structured for me to have the right X and Y axis?\" \"How do I build a basic scatter plot?\" \"How do I add a label to that scatter plot?\" \"Where would the labels for that scatter plot come from?\". Again! Don't let the magnitude of a programming task scare you off. Ultimately, every programming problem boils down to a handful of smaller, bite-sized tasks.\n",
    "\n",
    "* Get help when you need it! There is never any shame in asking. But as always, ask a _specific_ question. You'll never get a great answer to: \"I'm lost.\" Good luck!\n"
   ]
  }
 ],
 "metadata": {
  "anaconda-cloud": {},
  "celltoolbar": "Tags",
  "kernelspec": {
   "display_name": "Python 3",
   "language": "python",
   "name": "python3"
  },
  "language_info": {
   "codemirror_mode": {
    "name": "ipython",
    "version": 3
   },
   "file_extension": ".py",
   "mimetype": "text/x-python",
   "name": "python",
   "nbconvert_exporter": "python",
   "pygments_lexer": "ipython3",
   "version": "3.6.8"
  },
  "varInspector": {
   "cols": {
    "lenName": 16,
    "lenType": 16,
    "lenVar": 40
   },
   "kernels_config": {
    "python": {
     "delete_cmd_postfix": "",
     "delete_cmd_prefix": "del ",
     "library": "var_list.py",
     "varRefreshCmd": "print(var_dic_list())"
    },
    "r": {
     "delete_cmd_postfix": ") ",
     "delete_cmd_prefix": "rm(",
     "library": "var_list.r",
     "varRefreshCmd": "cat(var_dic_list()) "
    }
   },
   "types_to_exclude": [
    "module",
    "function",
    "builtin_function_or_method",
    "instance",
    "_Feature"
   ],
   "window_display": false
  }
 },
 "nbformat": 4,
 "nbformat_minor": 1
}
